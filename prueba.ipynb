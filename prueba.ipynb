{
 "cells": [
  {
   "cell_type": "code",
   "execution_count": 11,
   "id": "42f6570b",
   "metadata": {},
   "outputs": [],
   "source": [
    "%matplotlib inline"
   ]
  },
  {
   "cell_type": "code",
   "execution_count": 37,
   "id": "acdc0b26",
   "metadata": {},
   "outputs": [],
   "source": [
    "import math\n",
    "import numpy as np\n",
    "import pandas as pd\n",
    "import matplotlib.pyplot as plt\n",
    "from pathlib import Path\n",
    "from scipy import stats\n",
    "from statsmodels.stats.proportion import proportions_ztest"
   ]
  },
  {
   "cell_type": "code",
   "execution_count": null,
   "id": "b984a88f",
   "metadata": {},
   "outputs": [
    {
     "name": "stdout",
     "output_type": "stream",
     "text": [
      "CSV generado con 200 registros en: steelframe_inferencia_dataset.csv\n"
     ]
    }
   ],
   "source": [
    "def generar_dataset_csv(salida_path: Path):\n",
    "    rng = np.random.default_rng(42)  # Generador aleatorio reproducible\n",
    "    n = 200  # Cantidad de registros\n",
    "\n",
    "    # Proveedor\n",
    "    proveedor = rng.choice(['A', 'B'], size=n, p=[0.55, 0.45])\n",
    "\n",
    "    # Medias y desviaciones estándar para el espesor según proveedor\n",
    "    media_A, media_B = 0.90, 0.88\n",
    "    desv_A, desv_B = 0.06, 0.07\n",
    "\n",
    "    # Espesor de perfiles (mm)\n",
    "    espesor = np.where(\n",
    "        proveedor == 'A',\n",
    "        rng.normal(media_A, desv_A, size=n),\n",
    "        rng.normal(media_B, desv_B, size=n)\n",
    "    )\n",
    "    espesor = np.clip(espesor, 0.70, 1.10)  # limitar valores\n",
    "\n",
    "    # Resistencia a la fluencia (MPa)\n",
    "    resistencia_fluencia = 230 + 80*(espesor - 0.85) + rng.normal(0, 12, size=n)\n",
    "\n",
    "    # Recubrimiento de zinc (g/m²)\n",
    "    recubrimiento = np.where(\n",
    "        proveedor == 'A',\n",
    "        rng.normal(220, 18, size=n),\n",
    "        rng.normal(210, 20, size=n)\n",
    "    )\n",
    "    recubrimiento = np.clip(recubrimiento, 160, 280)\n",
    "\n",
    "    # Valor U base y penalización por puente térmico\n",
    "    U_base = 0.35 - 0.06*(espesor - 0.85) + rng.normal(0, 0.015, size=n)\n",
    "    penalizacion_puente = np.where(proveedor == 'A', 0.012, 0.015)\n",
    "    valor_U = np.clip(U_base + penalizacion_puente, 0.18, 0.55)\n",
    "\n",
    "    # Cumple requisito de U\n",
    "    cumple_U = (valor_U <= 0.40)\n",
    "\n",
    "    # Lotes y códigos de panel\n",
    "    lote = rng.integers(1001, 1012, size=n)\n",
    "    id_panel = [f\"P{b}-{i:03d}\" for b, i in zip(lote, rng.integers(1, 160, size=n))]\n",
    "\n",
    "    # Crear DataFrame\n",
    "    df = pd.DataFrame({\n",
    "        \"id_panel\": id_panel,\n",
    "        \"proveedor\": proveedor,\n",
    "        \"lote\": lote,\n",
    "        \"espesor_mm\": np.round(espesor, 3),\n",
    "        \"resistencia_fluencia_MPa\": np.round(resistencia_fluencia, 1),\n",
    "        \"recubrimiento_zinc_g_m2\": np.round(recubrimiento, 0),\n",
    "        \"U_W_m2K\": np.round(valor_U, 3),\n",
    "        \"cumple_requisito_U\": cumple_U\n",
    "    })\n",
    "\n",
    "    # Guardar CSV\n",
    "    df.to_csv(salida_path, index=False)\n",
    "    return df\n",
    "\n",
    "if __name__ == \"__main__\":\n",
    "    # Directorio del script y ruta del CSV en el mismo directorio\n",
    "    csv_path = Path(\"steelframe_inferencia_dataset.csv\")  # guarda en la carpeta actual del notebook\n",
    "\n",
    "    df = generar_dataset_csv(csv_path)\n",
    "    print(f\"CSV generado con {len(df)} registros en: {csv_path}\")"
   ]
  },
  {
   "cell_type": "code",
   "execution_count": 19,
   "id": "1042bd50",
   "metadata": {},
   "outputs": [
    {
     "name": "stdout",
     "output_type": "stream",
     "text": [
      "    id_panel proveedor  lote  espesor_mm  resistencia_fluencia_MPa  \\\n",
      "0  P1010-039         B  1010       0.933                     230.4   \n",
      "1  P1003-125         A  1003       0.876                     241.9   \n",
      "2  P1005-093         B  1005       0.917                     238.3   \n",
      "3  P1006-119         B  1006       0.831                     207.2   \n",
      "4  P1008-018         A  1008       0.920                     241.8   \n",
      "\n",
      "   recubrimiento_zinc_g_m2  U_W_m2K  cumple_requisito_U  \n",
      "0                    225.0    0.342                True  \n",
      "1                    239.0    0.347                True  \n",
      "2                    213.0    0.383                True  \n",
      "3                    226.0    0.350                True  \n",
      "4                    205.0    0.338                True  \n",
      "Estadísticos descriptivos del espesor de perfiles\n",
      "Tamaño muestral (n): 200\n",
      "Media muestral (x̄): 0.885 mm\n",
      "Mediana: 0.890 mm\n",
      "Desvío estándar muestral (s): 0.064 mm\n"
     ]
    }
   ],
   "source": [
    "# Cargar el CSV previamente generado\n",
    "df = pd.read_csv(\"steelframe_inferencia_dataset.csv\")\n",
    "\n",
    "# Revisar primeras filas\n",
    "print(df.head())\n",
    "\n",
    "# Estadísticas\n",
    "x = df[\"espesor_mm\"].dropna().iloc[:200]\n",
    "n = x.size\n",
    "x_mean = x.mean()\n",
    "x_median = x.median()\n",
    "x_std = x.std(ddof=1)\n",
    "\n",
    "print(\"Estadísticos descriptivos del espesor de perfiles\")\n",
    "print(f\"Tamaño muestral (n): {n}\")\n",
    "print(f\"Media muestral (x̄): {x_mean:.3f} mm\")\n",
    "print(f\"Mediana: {x_median:.3f} mm\")\n",
    "print(f\"Desvío estándar muestral (s): {x_std:.3f} mm\")"
   ]
  },
  {
   "cell_type": "code",
   "execution_count": 20,
   "id": "49e8e836",
   "metadata": {},
   "outputs": [
    {
     "name": "stdout",
     "output_type": "stream",
     "text": [
      "Distribución de frecuencias graficada en histograma.\n",
      "\n"
     ]
    },
    {
     "data": {
      "image/png": "[encoded data removed]",
      "text/plain": [
       "<Figure size 800x500 with 1 Axes>"
      ]
     },
     "metadata": {},
     "output_type": "display_data"
    }
   ],
   "source": [
    "print(\"Distribución de frecuencias graficada en histograma.\\n\")\n",
    "\n",
    "# === Histograma ===\n",
    "plt.figure(figsize=(8,5))\n",
    "plt.hist(x, bins=20, color=\"steelblue\", edgecolor=\"black\", alpha=0.7)\n",
    "plt.axvline(x_mean, color=\"red\", linestyle=\"--\", linewidth=2, label=f\"Media = {x_mean:.3f}\")\n",
    "plt.axvline(x_median, color=\"green\", linestyle=\"--\", linewidth=2, label=f\"Mediana = {x_median:.3f}\")\n",
    "plt.title(\"Histograma del espesor de perfiles (mm)\")\n",
    "plt.xlabel(\"Espesor (mm)\")\n",
    "plt.ylabel(\"Frecuencia\")\n",
    "plt.legend()\n",
    "plt.grid(True, linestyle=\"--\", alpha=0.6)\n",
    "plt.show()\n"
   ]
  },
  {
   "cell_type": "markdown",
   "id": "5b895168",
   "metadata": {},
   "source": [
    "Los proveedores producen espesores bastante variados en cuanrto al espesor esperado, lo podemos verificar al ver que la concentracion mayoritaria de los elementos no reside en el centro sino en los extremos del gráfico. "
   ]
  },
  {
   "cell_type": "code",
   "execution_count": 33,
   "id": "385d8e62",
   "metadata": {},
   "outputs": [
    {
     "name": "stdout",
     "output_type": "stream",
     "text": [
      "Análisis del resistencia de los perfiles (MPa)\n",
      "Cantidad de paneles analizados: 200\n",
      "Media muestral (ȳ): 232.123 MPa\n",
      "Desvío estándar muestral (s): 13.398 MPa\n"
     ]
    }
   ],
   "source": [
    "# Variable de interés: espesor\n",
    "y = df[\"resistencia_fluencia_MPa\"].dropna()\n",
    "n = y.size\n",
    "y_mean = y.mean()\n",
    "y_std = y.std(ddof=1)\n",
    "\n",
    "\n",
    "print(\"Análisis del resistencia de los perfiles (MPa)\")\n",
    "print(f\"Cantidad de paneles analizados: {n}\")\n",
    "print(f\"Media muestral (ȳ): {y_mean:.3f} MPa\")\n",
    "print(f\"Desvío estándar muestral (s): {y_std:.3f} MPa\")"
   ]
  },
  {
   "cell_type": "code",
   "execution_count": 31,
   "id": "f06034d7",
   "metadata": {},
   "outputs": [
    {
     "name": "stdout",
     "output_type": "stream",
     "text": [
      "Test t de una muestra (H1: μ < μ0)\n",
      "Cantidad de observaciones (n): 200\n",
      "Media muestral (ȳ): 232.123 MPa\n",
      "Desvío estándar muestral (s): 13.398 MPa\n",
      "Hipótesis nula (H0): μ ≥ 240 MPa\n",
      "Hipótesis alternativa (H1): μ < 240 MPa\n",
      "Estadístico t calculado: -8.315\n",
      "p-valor (unilateral): 0.00000\n",
      ">>> Se RECHAZA H0 al nivel α=0.05.\n",
      "   Evidencia estadística suficiente de que μ < 240 MPa.\n"
     ]
    }
   ],
   "source": [
    "# Hipótesis\n",
    "mu0 = 240  # valor de referencia\n",
    "\n",
    "# Test t unilateral (H1: μ > μ0)\n",
    "t_stat, p_one_sided = stats.ttest_1samp(y, popmean=mu0, alternative=\"less\")\n",
    "\n",
    "print(\"Test t de una muestra (H1: μ < μ0)\")\n",
    "print(f\"Cantidad de observaciones (n): {n}\")\n",
    "print(f\"Media muestral (ȳ): {y_mean:.3f} MPa\")\n",
    "print(f\"Desvío estándar muestral (s): {y_std:.3f} MPa\")\n",
    "print(f\"Hipótesis nula (H0): μ ≥ {mu0} MPa\")\n",
    "print(f\"Hipótesis alternativa (H1): μ < {mu0} MPa\")\n",
    "print(f\"Estadístico t calculado: {t_stat:.3f}\")\n",
    "print(f\"p-valor (unilateral): {p_one_sided:.5f}\")\n",
    "\n",
    "\n",
    "# Decisión\n",
    "alpha = 0.05\n",
    "if p_one_sided < alpha:\n",
    "    print(f\">>> Se RECHAZA H0 al nivel α={alpha}.\")\n",
    "    print(\"   Evidencia estadística suficiente de que μ < 240 MPa.\")\n",
    "else:\n",
    "    print(f\">>> No se puede rechazar H0 al nivel α={alpha}.\")\n",
    "    print(\"   No hay evidencia estadística suficiente de que μ < 240 MPa.\")\n"
   ]
  },
  {
   "cell_type": "markdown",
   "id": "5a87f533",
   "metadata": {},
   "source": [
    "La resistencia del material provisto no cumple con el valor esperado de 240 MPa. La media muestral es significativamente inferior, y la prueba estadística respalda esta diferencia. Por lo tanto, no se considera adecuada para los estándares requeridos."
   ]
  },
  {
   "cell_type": "code",
   "execution_count": 32,
   "id": "8a259772",
   "metadata": {},
   "outputs": [
    {
     "name": "stdout",
     "output_type": "stream",
     "text": [
      "Test t para muestras independientes (Welch)\n",
      "Cantidad de paneles proveedor A: 108\n",
      "Cantidad de paneles proveedor B: 92\n",
      "Media A (x̄A): 0.890 mm\n",
      "Media B (x̄B): 0.880 mm\n",
      "Desvío estándar A (sA): 0.060 mm\n",
      "Desvío estándar B (sB): 0.067 mm\n",
      "\n",
      "Hipótesis:\n",
      "  H0: μA = μB\n",
      "  H1: μA > μB\n",
      "\n",
      "Estadístico t calculado: 1.094\n",
      "p-valor (unilateral): 0.13771\n",
      ">>> No se puede rechazar H0 al nivel α=0.05.\n",
      "   No hay evidencia estadística suficiente para afirmar que el proveedor A tiene mayor espesor promedio que B.\n"
     ]
    }
   ],
   "source": [
    "# Comparación de espesor entre proveedores\n",
    "espesor_A = df.loc[df[\"proveedor\"]==\"A\", \"espesor_mm\"]\n",
    "espesor_B = df.loc[df[\"proveedor\"]==\"B\", \"espesor_mm\"]\n",
    "\n",
    "# Test t de Student con varianzas desiguales (Welch)\n",
    "resultado_t = stats.ttest_ind(espesor_A, espesor_B, equal_var=False, alternative=\"greater\")\n",
    "\n",
    "\n",
    "print(\"Test t para muestras independientes (Welch)\")\n",
    "print(f\"Cantidad de paneles proveedor A: {len(espesor_A)}\")\n",
    "print(f\"Cantidad de paneles proveedor B: {len(espesor_B)}\")\n",
    "print(f\"Media A (x̄A): {espesor_A.mean():.3f} mm\")\n",
    "print(f\"Media B (x̄B): {espesor_B.mean():.3f} mm\")\n",
    "print(f\"Desvío estándar A (sA): {espesor_A.std(ddof=1):.3f} mm\")\n",
    "print(f\"Desvío estándar B (sB): {espesor_B.std(ddof=1):.3f} mm\")\n",
    "print(\"\\nHipótesis:\")\n",
    "print(\"  H0: μA = μB\")\n",
    "print(\"  H1: μA > μB\")\n",
    "print(f\"\\nEstadístico t calculado: {resultado_t.statistic:.3f}\")\n",
    "print(f\"p-valor (unilateral): {resultado_t.pvalue:.5f}\")\n",
    "\n",
    "alpha = 0.05\n",
    "if resultado_t.pvalue < alpha:\n",
    "    print(f\">>> Se RECHAZA H0 al nivel α={alpha}.\")\n",
    "    print(\"   Evidencia estadística suficiente de que el espesor promedio del proveedor A es mayor que el de B.\")\n",
    "else:\n",
    "    print(f\">>> No se puede rechazar H0 al nivel α={alpha}.\")\n",
    "    print(\"   No hay evidencia estadística suficiente para afirmar que el proveedor A tiene mayor espesor promedio que B.\")"
   ]
  },
  {
   "cell_type": "markdown",
   "id": "708c3e86",
   "metadata": {},
   "source": [
    "Se aplica una prueba t de Student para muestras independientes.\n",
    "Dado que los desvíos estándar son ligeramente diferentes, se utilizó la versión de Welch (que no asume igualdad de varianzas).\n",
    "Dado que el p-valor = 0.13771 > 0.05, no se rechaza la hipótesis nula al nivel de significancia 𝛼=0.05"
   ]
  },
  {
   "cell_type": "code",
   "execution_count": 35,
   "id": "26bcc43c",
   "metadata": {},
   "outputs": [
    {
     "name": "stdout",
     "output_type": "stream",
     "text": [
      "\n",
      "=== Análisis del valor U para Proveedor A ===\n",
      "Cantidad de paneles: 108\n",
      "Media muestral: 0.359 W/m²K\n",
      "Desvío estándar: 0.016 W/m²K\n",
      "Intervalo de confianza 95%: (0.356, 0.362) W/m²K\n",
      "Estadístico t: -26.211\n",
      "p-valor (una cola, H1: μ < 0.40): 0.00000\n",
      "Conclusión: Se rechaza H0 → la media de U del proveedor A es significativamente menor a 0.40 W/m²K.\n",
      "\n",
      "=== Análisis del valor U para Proveedor B ===\n",
      "Cantidad de paneles: 92\n",
      "Media muestral: 0.362 W/m²K\n",
      "Desvío estándar: 0.018 W/m²K\n",
      "Intervalo de confianza 95%: (0.359, 0.366) W/m²K\n",
      "Estadístico t: -20.410\n",
      "p-valor (una cola, H1: μ < 0.40): 0.00000\n",
      "Conclusión: Se rechaza H0 → la media de U del proveedor B es significativamente menor a 0.40 W/m²K.\n"
     ]
    }
   ],
   "source": [
    "# Separar por proveedor\n",
    "for proveedor in [\"A\", \"B\"]:\n",
    "    print(f\"\\n=== Análisis del valor U para Proveedor {proveedor} ===\")\n",
    "    \n",
    "    U_prov = df.loc[df[\"proveedor\"] == proveedor, \"U_W_m2K\"].dropna()\n",
    "    n_U = U_prov.size\n",
    "    media_U = U_prov.mean()\n",
    "    desv_U = U_prov.std(ddof=1)\n",
    "    \n",
    "    # Intervalo de confianza 95%\n",
    "    t_critico_U = stats.t.ppf(0.975, df=n_U-1)\n",
    "    ic_U = (\n",
    "        media_U - t_critico_U * desv_U / np.sqrt(n_U),\n",
    "        media_U + t_critico_U * desv_U / np.sqrt(n_U)\n",
    "    )\n",
    "    \n",
    "    # Test t unilateral: H0: μ = 0.40 vs H1: μ < 0.40\n",
    "    estad_t_U, p_valor_izquierda = stats.ttest_1samp(U_prov, popmean=0.40, alternative=\"less\")\n",
    "    \n",
    "    # Resultados\n",
    "    print(f\"Cantidad de paneles: {n_U}\")\n",
    "    print(f\"Media muestral: {media_U:.3f} W/m²K\")\n",
    "    print(f\"Desvío estándar: {desv_U:.3f} W/m²K\")\n",
    "    print(f\"Intervalo de confianza 95%: ({ic_U[0]:.3f}, {ic_U[1]:.3f}) W/m²K\")\n",
    "    print(f\"Estadístico t: {estad_t_U:.3f}\")\n",
    "    print(f\"p-valor (una cola, H1: μ < 0.40): {p_valor_izquierda:.5f}\")\n",
    "    \n",
    "    # Interpretación\n",
    "    alpha = 0.05\n",
    "    if p_valor_izquierda < alpha:\n",
    "        print(f\"Conclusión: Se rechaza H0 → la media de U del proveedor {proveedor} es significativamente menor a 0.40 W/m²K.\")\n",
    "    else:\n",
    "        print(f\"Conclusión: No se puede rechazar H0 → no hay evidencia suficiente de que la media de U del proveedor {proveedor} sea menor a 0.40.\")\n"
   ]
  },
  {
   "cell_type": "markdown",
   "id": "54687de8",
   "metadata": {},
   "source": [
    "Ambos proveedores dan un U≤0.40. "
   ]
  },
  {
   "cell_type": "code",
   "execution_count": 38,
   "id": "aa9fcca6",
   "metadata": {},
   "outputs": [
    {
     "name": "stdout",
     "output_type": "stream",
     "text": [
      "=== Prueba de diferencia de proporciones ===\n",
      "Proveedor A: 107/108 paneles cumplen → proporción = 0.991\n",
      "Proveedor B: 90/92 paneles cumplen → proporción = 0.978\n",
      "Estadístico z: 0.724\n",
      "p-valor (dos colas): 0.46927\n",
      ">>> No se puede rechazar H0 al nivel α = 0.05\n",
      "   No hay evidencia estadística suficiente para afirmar que las proporciones sean distintas.\n"
     ]
    }
   ],
   "source": [
    "# Contar éxitos y tamaños por proveedor\n",
    "cumple_A = df.loc[df[\"proveedor\"] == \"A\", \"cumple_requisito_U\"]\n",
    "cumple_B = df.loc[df[\"proveedor\"] == \"B\", \"cumple_requisito_U\"]\n",
    "\n",
    "# Éxitos: cantidad de True\n",
    "x1 = cumple_A.sum()\n",
    "x2 = cumple_B.sum()\n",
    "\n",
    "# Tamaños muestrales\n",
    "n1 = cumple_A.count()\n",
    "n2 = cumple_B.count()\n",
    "\n",
    "# Prueba z para diferencia de proporciones (dos colas)\n",
    "stat_z, p_valor = proportions_ztest([x1, x2], [n1, n2], alternative=\"two-sided\")\n",
    "\n",
    "# Resultados\n",
    "print(\"=== Prueba de diferencia de proporciones ===\")\n",
    "print(f\"Proveedor A: {x1}/{n1} paneles cumplen → proporción = {x1/n1:.3f}\")\n",
    "print(f\"Proveedor B: {x2}/{n2} paneles cumplen → proporción = {x2/n2:.3f}\")\n",
    "print(f\"Estadístico z: {stat_z:.3f}\")\n",
    "print(f\"p-valor (dos colas): {p_valor:.5f}\")\n",
    "\n",
    "alpha = 0.05\n",
    "if p_valor < alpha:\n",
    "    print(f\">>> Se RECHAZA H0 al nivel α = {alpha}\")\n",
    "    print(\"   Hay evidencia estadística de que las proporciones de cumplimiento difieren entre A y B.\")\n",
    "else:\n",
    "    print(f\">>> No se puede rechazar H0 al nivel α = {alpha}\")\n",
    "    print(\"   No hay evidencia estadística suficiente para afirmar que las proporciones sean distintas.\")\n"
   ]
  }
 ],
 "metadata": {
  "kernelspec": {
   "display_name": ".venv_Jupiter",
   "language": "python",
   "name": "python3"
  },
  "language_info": {
   "codemirror_mode": {
    "name": "ipython",
    "version": 3
   },
   "file_extension": ".py",
   "mimetype": "text/x-python",
   "name": "python",
   "nbconvert_exporter": "python",
   "pygments_lexer": "ipython3",
   "version": "3.13.7"
  }
 },
 "nbformat": 4,
 "nbformat_minor": 5
}
